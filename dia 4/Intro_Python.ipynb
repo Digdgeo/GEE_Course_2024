{
  "cells": [
    {
      "cell_type": "markdown",
      "id": "27b8c469",
      "metadata": {
        "id": "27b8c469"
      },
      "source": [
        "# Bienvenidos al curso de Análisis Espacial con Python"
      ]
    },
    {
      "cell_type": "markdown",
      "id": "e37a2804",
      "metadata": {
        "id": "e37a2804"
      },
      "source": [
        "Así como la cabra tira al monte van mis pies en enhiesto caminar"
      ]
    },
    {
      "cell_type": "markdown",
      "id": "f574de08",
      "metadata": {
        "id": "f574de08"
      },
      "source": [
        "# Jugando con los Notebooks"
      ]
    },
    {
      "cell_type": "markdown",
      "id": "ab43eaaa",
      "metadata": {
        "id": "ab43eaaa"
      },
      "source": [
        "Vamos a aprender como movernos por las celdas y como \"operar\" con ellas"
      ]
    },
    {
      "cell_type": "markdown",
      "id": "51421c1d",
      "metadata": {
        "id": "51421c1d"
      },
      "source": [
        "Notad la diferencia entre el color verde y azul cuando seleccionamos una celda. La celda en verde está lista para introducir el código o el texto en ella. Mientras que cuando la celda está en azul podemos insertar nuevas celdas (\"a\" (above) o \"b\" (below)) o seleccionar varias celdas a la vez dejando presionado el shift mientras clickamos en las flechas de arriba o abajo.\n",
        "Recordad que para poner la selección en verde tan solo hay que clickar dentro del espacio para insertar el código mientras que para la selección azul hay que pinchar a la izquierda de la zona de código (\"In []\")\n",
        "\n",
        "Igualmente podemos alternar entre ambos modos con las teclas Esc y Enter.  \n",
        "Con las teclas M e Y cambiaremos el tipo de celda a Markdown y Código.\n",
        "Pulsar 2 veces la letra D borrara la celda.  \n",
        "Dejando el shift presionado podemos seleccionar varias celdas con los cursores arriba o abajo. Una vez tenemos varias celdas seleccionadas podemos unirla clickando shift + M  \n",
        "Con Control + Shift + - partiremos la celda en dos por donde tengamos el cursor\n"
      ]
    },
    {
      "cell_type": "code",
      "execution_count": null,
      "id": "ed70213a",
      "metadata": {
        "ExecuteTime": {
          "end_time": "2023-06-06T11:38:08.524808Z",
          "start_time": "2023-06-06T11:38:08.520349Z"
        },
        "id": "ed70213a"
      },
      "outputs": [],
      "source": [
        "print('Hello world')"
      ]
    },
    {
      "cell_type": "code",
      "execution_count": null,
      "id": "1ae0c7b5",
      "metadata": {
        "ExecuteTime": {
          "end_time": "2023-06-06T11:38:08.524808Z",
          "start_time": "2023-06-06T11:38:08.520349Z"
        },
        "id": "1ae0c7b5"
      },
      "outputs": [],
      "source": [
        "#import time\n",
        "#time.sleep(10)\n",
        "print(\"Hello world again\")"
      ]
    },
    {
      "cell_type": "markdown",
      "id": "f86b250f",
      "metadata": {
        "id": "f86b250f"
      },
      "source": [
        "Arriba hemos creado y ejecutado nuestras dos primeras celdas de código. Podemos probar a imprimir aquí el Zen de python"
      ]
    },
    {
      "cell_type": "code",
      "execution_count": null,
      "id": "bf064677",
      "metadata": {
        "ExecuteTime": {
          "end_time": "2023-06-06T11:38:14.869195Z",
          "start_time": "2023-06-06T11:38:14.863889Z"
        },
        "hide_input": false,
        "id": "bf064677"
      },
      "outputs": [],
      "source": [
        "import this"
      ]
    },
    {
      "cell_type": "markdown",
      "id": "2d075266",
      "metadata": {
        "id": "2d075266"
      },
      "source": [
        "![](https://imgs.xkcd.com/comics/python.png)"
      ]
    },
    {
      "cell_type": "markdown",
      "id": "e6b9c019",
      "metadata": {
        "id": "e6b9c019"
      },
      "source": [
        "## ¿Que son los notebooks?"
      ]
    },
    {
      "cell_type": "markdown",
      "id": "daed262a",
      "metadata": {
        "id": "daed262a"
      },
      "source": [
        "Los notebooks son cuadernos web intercativos para ejecutar código python basados en Javascript y CSS.\n",
        "Es posible aplicar estilos al texto como haríamos en el diseño de una página web. Por ejemplo\n",
        "<font color='red'>podemos cambiar el color del texto</font> o también la tipología a **negrita** o a *cursiva*. Por supuesto, también podemos ***combinar esto*** o ~~tachar algunas palabras~~\n"
      ]
    },
    {
      "cell_type": "markdown",
      "id": "a6aa2794",
      "metadata": {
        "id": "a6aa2794"
      },
      "source": [
        "A veces puede ser útil crear listas de texto:\n",
        "\n",
        "1. Primer elemento\n",
        "2. Elemento 2  \n",
        "13. Tercer elemento\n",
        "\n",
        "* Primerito elemento\n",
        "  * Anidado 1\n",
        "  * Anidado 2\n",
        "    1. Let's try something\n",
        "    1. Type one again\n",
        "  \n",
        "* Segundito elemento\n",
        "- Otra vez primero\n",
        "    - Anidado"
      ]
    },
    {
      "cell_type": "markdown",
      "id": "2118558f",
      "metadata": {
        "id": "2118558f"
      },
      "source": [
        "Esta posibilidad de intercalar texto con código hace de los Notebooks un elemento muy didáctico. Pero además nos permiten la opción de incluir imágenes o vídeos tal y como lo haríamos en cualquier documento de Markdown"
      ]
    },
    {
      "cell_type": "markdown",
      "id": "613e4f4e",
      "metadata": {
        "id": "613e4f4e"
      },
      "source": [
        "![](https://cdn.memegenerator.es/imagenes/memes/full/21/4/21049581.jpg)"
      ]
    },
    {
      "cell_type": "markdown",
      "id": "f9b6dabf",
      "metadata": {
        "id": "f9b6dabf"
      },
      "source": [
        "Inciso!! También podemos usar las celdas como calculadora ;P"
      ]
    },
    {
      "cell_type": "code",
      "execution_count": null,
      "id": "f7c5af9b",
      "metadata": {
        "ExecuteTime": {
          "end_time": "2023-06-06T11:38:23.501127Z",
          "start_time": "2023-06-06T11:38:23.493174Z"
        },
        "id": "f7c5af9b"
      },
      "outputs": [],
      "source": [
        "68/18 == (12/3 - 4/18)"
      ]
    },
    {
      "cell_type": "markdown",
      "id": "4e515434",
      "metadata": {
        "id": "4e515434"
      },
      "source": [
        "Flameshot Example"
      ]
    },
    {
      "cell_type": "markdown",
      "id": "e00695c8",
      "metadata": {
        "id": "e00695c8"
      },
      "source": [
        "![Flameshot Example](https://i.imgur.com/Gd3z9cU.png)"
      ]
    },
    {
      "cell_type": "code",
      "execution_count": null,
      "id": "d3be8d9c",
      "metadata": {
        "id": "d3be8d9c"
      },
      "outputs": [],
      "source": [
        "%%HTML\n",
        "\n",
        "<iframe width=\"1000\" height=\"500\" src=\"https://www.youtube.com/embed/5L8iBoL9Xhw\" title=\"YouTube video player\" frameborder=\"0\" allow=\"accelerometer; autoplay; clipboard-write; encrypted-media; gyroscope; picture-in-picture; web-share\" allowfullscreen></iframe>"
      ]
    },
    {
      "cell_type": "markdown",
      "id": "d2d0f9d9",
      "metadata": {
        "id": "d2d0f9d9"
      },
      "source": [
        "Otra cosa que podemos hacer es ejecutar otros lenguajes de programación dentro de una celda utilizando las \"Magias\""
      ]
    },
    {
      "cell_type": "markdown",
      "id": "7e0e4a4f",
      "metadata": {
        "id": "7e0e4a4f"
      },
      "source": [
        "También podemos crear tablas. Aquí una web estupenda para generarlas y solo tener que copiar el código generado: https://www.tablesgenerator.com/markdown_tables"
      ]
    },
    {
      "cell_type": "markdown",
      "id": "24b186e9",
      "metadata": {
        "id": "24b186e9"
      },
      "source": [
        "| Nombre            | Apellido | Nota curso Python | Faltas de Asistencia | Email |\n",
        "|-------------------|----------|-------------------|----------------------|-------|\n",
        "| David             | Aragonés | 8                 |                      |       |\n",
        "| Gabriela Patricia | ???      | 4                 |                      |       |\n",
        "| Antonio Jesus     | López    | 7                 |                      |       |"
      ]
    },
    {
      "cell_type": "markdown",
      "id": "3c34f468",
      "metadata": {
        "id": "3c34f468"
      },
      "source": [
        "Insertar fragmentos de código"
      ]
    },
    {
      "cell_type": "markdown",
      "id": "58fce195",
      "metadata": {
        "id": "58fce195"
      },
      "source": [
        "```python\n",
        "print('Hello world!')\n",
        "```"
      ]
    },
    {
      "cell_type": "markdown",
      "id": "a720bde9",
      "metadata": {
        "id": "a720bde9"
      },
      "source": [
        "```java\n",
        "\n",
        "class HelloWorld {\n",
        "    public static void main(String[] args) {\n",
        "        System.out.println(\"Hello, World!\");\n",
        "    }\n",
        "}\n",
        "```"
      ]
    },
    {
      "cell_type": "markdown",
      "id": "0b731ed4",
      "metadata": {
        "id": "0b731ed4"
      },
      "source": [
        "```html\n",
        "\n",
        "<!DOCTYPE HTML>\n",
        "<html>\n",
        "\n",
        "<body>\n",
        "\n",
        "  <script>\n",
        "    alert( 'Hello, world!' );\n",
        "  </script>\n",
        "\n",
        "</body>\n",
        "\n",
        "</html>\n",
        "```"
      ]
    },
    {
      "cell_type": "markdown",
      "id": "7b68ac79",
      "metadata": {
        "id": "7b68ac79"
      },
      "source": [
        "Kernels: https://github.com/vatlab/SOS"
      ]
    },
    {
      "cell_type": "markdown",
      "id": "0b249727",
      "metadata": {
        "id": "0b249727"
      },
      "source": [
        "LaTex"
      ]
    },
    {
      "cell_type": "markdown",
      "id": "1b248d56",
      "metadata": {
        "hide_input": false,
        "id": "1b248d56"
      },
      "source": [
        "$$\n",
        "\\sin(-\\alpha)=-\\sin(\\alpha)\\\\\n",
        "\\arccos(x)=\\arcsin(u)\\\\\n",
        "\\log_n(n)=1\\\\\n",
        "\\tan(x) = \\frac{\\sin(x)}{\\cos(x)}\n",
        "$$"
      ]
    },
    {
      "cell_type": "markdown",
      "id": "8b296953",
      "metadata": {
        "id": "8b296953"
      },
      "source": [
        "$$\n",
        "sign(x) = \\left\\{\n",
        "    \\begin{array}\\\\\n",
        "        1 & \\mbox{if } \\ x \\in \\mathbf{N}^* \\\\\n",
        "        0 & \\mbox{if } \\ x = 0 \\\\\n",
        "        -1 & \\mbox{else.}\n",
        "    \\end{array}\n",
        "\\right.\n",
        "$$\n",
        "\n",
        "\\\\\n",
        "\n",
        "$$\n",
        " \\left.\n",
        "    \\begin{array} \\\\\n",
        "        \\alpha^2 = \\sqrt5 \\\\\n",
        "        \\alpha \\geq 0\n",
        "    \\end{array}\n",
        "\\right \\}=\\alpha = 5\n",
        "$$"
      ]
    },
    {
      "cell_type": "markdown",
      "id": "6585052d",
      "metadata": {
        "id": "6585052d"
      },
      "source": [
        "Simple integral:\n",
        "$$\\int_{a}^b f(x)dx$$\n",
        "\n",
        "Double integral:\n",
        "$$\\int_{a}^b\\int_{c}^d f(x,y)\\,dxdy$$\n",
        "\n",
        "Triple integral:\n",
        "$$\\iiint$$\n",
        "\n",
        "Quadruple integral:\n",
        "$$\\iiiint$$\n",
        "\n",
        "Multiple integral :\n",
        "$$\\idotsint$$\n",
        "\n",
        "Contour integral:\n",
        "$$\\oint$$"
      ]
    },
    {
      "cell_type": "markdown",
      "id": "e7043f0e",
      "metadata": {
        "id": "e7043f0e"
      },
      "source": [
        "# Magics"
      ]
    },
    {
      "cell_type": "code",
      "execution_count": null,
      "id": "618cd440",
      "metadata": {
        "id": "618cd440"
      },
      "outputs": [],
      "source": [
        "%lsmagic"
      ]
    },
    {
      "cell_type": "markdown",
      "id": "f762056d",
      "metadata": {
        "id": "f762056d"
      },
      "source": [
        "Podemos consultar en que consiste cada una de ellas interrogándolas con \"?\""
      ]
    },
    {
      "cell_type": "code",
      "execution_count": null,
      "id": "72b1744a",
      "metadata": {
        "id": "72b1744a"
      },
      "outputs": [],
      "source": [
        "?autosave"
      ]
    },
    {
      "cell_type": "code",
      "execution_count": null,
      "id": "0f80df8a",
      "metadata": {
        "ExecuteTime": {
          "end_time": "2023-06-06T11:38:41.874642Z",
          "start_time": "2023-06-06T11:38:41.869366Z"
        },
        "id": "0f80df8a"
      },
      "outputs": [],
      "source": [
        "autosave 60"
      ]
    },
    {
      "cell_type": "markdown",
      "id": "60c93f75",
      "metadata": {
        "id": "60c93f75"
      },
      "source": [
        "Tiempo de ejecución de cada celda"
      ]
    },
    {
      "cell_type": "code",
      "execution_count": null,
      "id": "926c5371",
      "metadata": {
        "id": "926c5371"
      },
      "outputs": [],
      "source": [
        "%%timeit\n",
        "\n",
        "l = []\n",
        "\n",
        "for i in range(1000):\n",
        "    l.append(i)"
      ]
    },
    {
      "cell_type": "markdown",
      "id": "652c1fef",
      "metadata": {
        "id": "652c1fef"
      },
      "source": [
        "Tiempo de ejecución de cada línea. Notad la diferencia entre celda y línea"
      ]
    },
    {
      "cell_type": "code",
      "execution_count": null,
      "id": "e2e214fa",
      "metadata": {
        "id": "e2e214fa"
      },
      "outputs": [],
      "source": [
        "%timeit  l = [i for i in range(1000)]\n",
        "%timeit  l = [i for i in range(100000)]"
      ]
    },
    {
      "cell_type": "markdown",
      "id": "4194d7bd",
      "metadata": {
        "id": "4194d7bd"
      },
      "source": [
        "Nos puede ocurrir que queramos usar una variable ya creada en otro cuaderno. Podemos hacerlo usando la magia store"
      ]
    },
    {
      "cell_type": "code",
      "execution_count": null,
      "id": "a722f807",
      "metadata": {
        "ExecuteTime": {
          "end_time": "2023-06-06T11:53:03.089686Z",
          "start_time": "2023-06-06T11:53:03.082593Z"
        },
        "id": "a722f807"
      },
      "outputs": [],
      "source": [
        "l = [i for i in range(1000)]"
      ]
    },
    {
      "cell_type": "code",
      "execution_count": null,
      "id": "d18fd920",
      "metadata": {
        "ExecuteTime": {
          "end_time": "2023-06-06T11:38:52.873345Z",
          "start_time": "2023-06-06T11:38:52.860658Z"
        },
        "scrolled": true,
        "id": "d18fd920"
      },
      "outputs": [],
      "source": [
        "%store l"
      ]
    },
    {
      "cell_type": "markdown",
      "id": "32ecaa8d",
      "metadata": {
        "id": "32ecaa8d"
      },
      "source": [
        "Por supuesto podemos guardar el contenido de la celda como un script de python"
      ]
    },
    {
      "cell_type": "code",
      "execution_count": null,
      "id": "b472e4ba",
      "metadata": {
        "ExecuteTime": {
          "end_time": "2023-06-06T11:53:43.265233Z",
          "start_time": "2023-06-06T11:53:43.256237Z"
        },
        "id": "b472e4ba"
      },
      "outputs": [],
      "source": [
        "%%writefile lpatata.py\n",
        "\n",
        "l = []\n",
        "\n",
        "for i in range(100000):\n",
        "\n",
        "    if i%2==0:\n",
        "\n",
        "        l.append(i)\n",
        "\n",
        "    else:\n",
        "\n",
        "        l.append('patata')"
      ]
    },
    {
      "cell_type": "code",
      "execution_count": null,
      "id": "3bda29a7",
      "metadata": {
        "id": "3bda29a7"
      },
      "outputs": [],
      "source": [
        "!ls"
      ]
    },
    {
      "cell_type": "markdown",
      "id": "20f514ff",
      "metadata": {
        "id": "20f514ff"
      },
      "source": [
        "A la inversa, podemos abrir un script de python para ver o copiar su contenido"
      ]
    },
    {
      "cell_type": "code",
      "execution_count": null,
      "id": "bf5f47ea",
      "metadata": {
        "id": "bf5f47ea"
      },
      "outputs": [],
      "source": [
        "%pycat lpatata.py"
      ]
    },
    {
      "cell_type": "markdown",
      "id": "9c75c428",
      "metadata": {
        "id": "9c75c428"
      },
      "source": [
        "# Widgets"
      ]
    },
    {
      "cell_type": "markdown",
      "id": "fef01b6e",
      "metadata": {
        "id": "fef01b6e"
      },
      "source": [
        "Los Widgets no son ni más ni menos, que elementos que añaden utilidades de GUI a nuestro Notebook"
      ]
    },
    {
      "cell_type": "code",
      "execution_count": null,
      "id": "d82f16da",
      "metadata": {
        "id": "d82f16da"
      },
      "outputs": [],
      "source": [
        "#Via Conda\n",
        "!conda install -c conda-forge ipywidgets"
      ]
    },
    {
      "cell_type": "code",
      "execution_count": null,
      "id": "5d5f289c",
      "metadata": {
        "id": "5d5f289c"
      },
      "outputs": [],
      "source": [
        "#Via Pip\n",
        "!pip install ipywidgets\n",
        "!jupyter nbextension enable --py widgetsnbextension"
      ]
    },
    {
      "cell_type": "code",
      "execution_count": null,
      "id": "c3715614",
      "metadata": {
        "ExecuteTime": {
          "end_time": "2023-06-06T11:39:21.391691Z",
          "start_time": "2023-06-06T11:39:21.387205Z"
        },
        "id": "c3715614"
      },
      "outputs": [],
      "source": [
        "import ipywidgets as widgets"
      ]
    },
    {
      "cell_type": "code",
      "execution_count": null,
      "id": "e58e7169",
      "metadata": {
        "ExecuteTime": {
          "end_time": "2023-06-06T11:39:21.763229Z",
          "start_time": "2023-06-06T11:39:21.754196Z"
        },
        "id": "e58e7169"
      },
      "outputs": [],
      "source": [
        "year = widgets.IntSlider(\n",
        "    min=2000,\n",
        "    max=2023,\n",
        "    step=1,\n",
        "    description='Slider:',\n",
        "    value=2012\n",
        ")"
      ]
    },
    {
      "cell_type": "code",
      "execution_count": null,
      "id": "583bc977",
      "metadata": {
        "ExecuteTime": {
          "end_time": "2023-06-06T11:39:26.028262Z",
          "start_time": "2023-06-06T11:39:26.017944Z"
        },
        "scrolled": true,
        "id": "583bc977"
      },
      "outputs": [],
      "source": [
        "year"
      ]
    },
    {
      "cell_type": "code",
      "execution_count": null,
      "id": "61fc0a2d",
      "metadata": {
        "ExecuteTime": {
          "end_time": "2023-06-06T11:39:26.455207Z",
          "start_time": "2023-06-06T11:39:26.448116Z"
        },
        "id": "61fc0a2d"
      },
      "outputs": [],
      "source": [
        "if year.value < 2020:\n",
        "    print('Viejuno')"
      ]
    },
    {
      "cell_type": "code",
      "execution_count": null,
      "id": "094ace42",
      "metadata": {
        "id": "094ace42"
      },
      "outputs": [],
      "source": [
        "print(dir(widgets))"
      ]
    },
    {
      "cell_type": "code",
      "execution_count": null,
      "id": "44e8eaea",
      "metadata": {
        "ExecuteTime": {
          "end_time": "2023-06-06T11:39:32.837687Z",
          "start_time": "2023-06-06T11:39:32.822293Z"
        },
        "id": "44e8eaea"
      },
      "outputs": [],
      "source": [
        "#from IPython.display import display\n",
        "\n",
        "btn = widgets.Button(description='Saludo')\n",
        "display(btn)\n",
        "count = 0\n",
        "def btn_eventhandler(obj):\n",
        "    global count\n",
        "    count+=1\n",
        "    print('Hello World {} from the {} button!'.format(count, obj.description))\n",
        "btn.on_click(btn_eventhandler)"
      ]
    },
    {
      "cell_type": "code",
      "execution_count": null,
      "id": "121220c1",
      "metadata": {
        "ExecuteTime": {
          "end_time": "2023-06-06T11:39:46.862692Z",
          "start_time": "2023-06-06T11:39:46.843599Z"
        },
        "id": "121220c1"
      },
      "outputs": [],
      "source": [
        "widgets.Dropdown(\n",
        "    options=['S1', 'S2', 'S3'],\n",
        "    value='S2',\n",
        "    description='Sat:',\n",
        "    disabled=False,\n",
        ")"
      ]
    },
    {
      "cell_type": "markdown",
      "id": "8b2c77d5",
      "metadata": {
        "id": "8b2c77d5"
      },
      "source": [
        "TODO está en internet:   \n",
        "    \n",
        "    https://ipywidgets.readthedocs.io/en/stable/examples/Widget%20List.html"
      ]
    },
    {
      "cell_type": "markdown",
      "id": "d08d5e7e",
      "metadata": {
        "id": "d08d5e7e"
      },
      "source": [
        "# Extensions & Themes"
      ]
    },
    {
      "cell_type": "code",
      "execution_count": null,
      "id": "e62942e5",
      "metadata": {
        "id": "e62942e5"
      },
      "outputs": [],
      "source": [
        "conda install -c conda-forge jupyter_contrib_nbextensions"
      ]
    },
    {
      "cell_type": "code",
      "execution_count": null,
      "id": "f5701009",
      "metadata": {
        "ExecuteTime": {
          "end_time": "2023-06-06T11:48:46.832579Z",
          "start_time": "2023-06-06T11:48:45.223638Z"
        },
        "id": "f5701009"
      },
      "outputs": [],
      "source": [
        "pip install jupyterthemes"
      ]
    },
    {
      "cell_type": "code",
      "execution_count": null,
      "id": "642e9e54",
      "metadata": {
        "ExecuteTime": {
          "end_time": "2023-06-06T11:49:40.387602Z",
          "start_time": "2023-06-06T11:49:40.015607Z"
        },
        "id": "642e9e54"
      },
      "outputs": [],
      "source": [
        "!jt -l"
      ]
    },
    {
      "cell_type": "code",
      "execution_count": null,
      "id": "d63de761",
      "metadata": {
        "ExecuteTime": {
          "end_time": "2023-06-06T11:51:04.831942Z",
          "start_time": "2023-06-06T11:51:04.034375Z"
        },
        "id": "d63de761"
      },
      "outputs": [],
      "source": [
        "!jt -t solarizedd"
      ]
    },
    {
      "cell_type": "code",
      "execution_count": null,
      "id": "87d4e473",
      "metadata": {
        "id": "87d4e473"
      },
      "outputs": [],
      "source": [
        "!jt -r"
      ]
    },
    {
      "cell_type": "markdown",
      "id": "47e5db2b",
      "metadata": {
        "id": "47e5db2b"
      },
      "source": [
        "# Empezamos a pythonear!"
      ]
    },
    {
      "cell_type": "markdown",
      "id": "17b0914e",
      "metadata": {
        "id": "17b0914e"
      },
      "source": [
        "Vamos a ver los tipos de datos y elementos que existen en python:\n",
        "    \n",
        "* String\n",
        "  - Variables\n",
        "  - Text slicing\n",
        "  - Count\n",
        "  - Methods Help Shift + Tab\n",
        "  - split\n",
        "  - join\n",
        "* Booleans\n",
        "* Condicionales If\n",
        "* Bucles\n",
        "  - While\n",
        "  - For\n",
        "* Int\n",
        "  - Varibales\n",
        "  - Maths\n",
        "  - Type\n",
        "* Floats\n",
        "* Listas\n",
        "* Sets\n",
        "* Tuplas\n",
        "* Diccioniarios\n",
        "* Funciones\n",
        "* Clases"
      ]
    },
    {
      "cell_type": "markdown",
      "id": "b2086000",
      "metadata": {
        "id": "b2086000"
      },
      "source": [
        "Antes de empezar podemos echar un vistazo a PEP8 code styling https://realpython.com/python-pep8/   \n",
        "\n",
        "\"PEP 8, sometimes spelled PEP8 or PEP-8, is a document that provides guidelines and best practices on how to write Python code. It was written in 2001 by Guido van Rossum, Barry Warsaw, and Nick Coghlan. The primary focus of PEP 8 is to improve the readability and consistency of Python code\""
      ]
    },
    {
      "cell_type": "markdown",
      "id": "1dbe83bb",
      "metadata": {
        "id": "1dbe83bb"
      },
      "source": [
        "## Strings"
      ]
    },
    {
      "cell_type": "code",
      "execution_count": null,
      "id": "c7d11b3a",
      "metadata": {
        "ExecuteTime": {
          "end_time": "2023-06-07T09:32:44.675260Z",
          "start_time": "2023-06-07T09:32:44.664918Z"
        },
        "id": "c7d11b3a"
      },
      "outputs": [],
      "source": [
        "'Soy un string'"
      ]
    },
    {
      "cell_type": "code",
      "execution_count": null,
      "id": "6523d575",
      "metadata": {
        "ExecuteTime": {
          "end_time": "2023-06-07T09:15:28.302104Z",
          "start_time": "2023-06-07T09:15:28.297270Z"
        },
        "id": "6523d575"
      },
      "outputs": [],
      "source": [
        "'Soy un string'[:3]"
      ]
    },
    {
      "cell_type": "code",
      "execution_count": null,
      "id": "8acdc2b3",
      "metadata": {
        "ExecuteTime": {
          "end_time": "2023-06-07T09:15:59.830910Z",
          "start_time": "2023-06-07T09:15:59.824911Z"
        },
        "scrolled": true,
        "id": "8acdc2b3"
      },
      "outputs": [],
      "source": [
        "s = 'Soy un string'\n",
        "s[-6:]"
      ]
    },
    {
      "cell_type": "code",
      "execution_count": null,
      "id": "1bcb905f",
      "metadata": {
        "id": "1bcb905f"
      },
      "outputs": [],
      "source": [
        "s[::-1]"
      ]
    },
    {
      "cell_type": "code",
      "execution_count": null,
      "id": "5df7ee89",
      "metadata": {
        "id": "5df7ee89"
      },
      "outputs": [],
      "source": [
        "for i in reversed(s):\n",
        "    print(i)"
      ]
    },
    {
      "cell_type": "code",
      "execution_count": null,
      "id": "ad8cb1cd",
      "metadata": {
        "id": "ad8cb1cd"
      },
      "outputs": [],
      "source": [
        "reversedstring='_'.join(reversed(s))\n",
        "reversedstring"
      ]
    },
    {
      "cell_type": "code",
      "execution_count": null,
      "id": "f3ad6b99",
      "metadata": {
        "ExecuteTime": {
          "end_time": "2023-06-07T09:24:43.262278Z",
          "start_time": "2023-06-07T09:24:43.252546Z"
        },
        "id": "f3ad6b99"
      },
      "outputs": [],
      "source": [
        "s.count('n')"
      ]
    },
    {
      "cell_type": "code",
      "execution_count": null,
      "id": "5eab5e03",
      "metadata": {
        "ExecuteTime": {
          "end_time": "2023-06-07T09:26:45.225273Z",
          "start_time": "2023-06-07T09:26:45.220608Z"
        },
        "id": "5eab5e03"
      },
      "outputs": [],
      "source": [
        "s.upper().lower().count('i')"
      ]
    },
    {
      "cell_type": "code",
      "execution_count": null,
      "id": "95dcf2ce",
      "metadata": {
        "id": "95dcf2ce"
      },
      "outputs": [],
      "source": [
        "print(s*5)"
      ]
    },
    {
      "cell_type": "markdown",
      "id": "91b00219",
      "metadata": {
        "id": "91b00219"
      },
      "source": [
        "Vamos a ver como ver la ayuda de las funciones, para ello crearemos la función saludo"
      ]
    },
    {
      "cell_type": "code",
      "execution_count": null,
      "id": "72327198",
      "metadata": {
        "scrolled": true,
        "id": "72327198"
      },
      "outputs": [],
      "source": [
        "# Ver todos los métodos y atributos de un objeto\n",
        "dir(s)"
      ]
    },
    {
      "cell_type": "code",
      "execution_count": null,
      "id": "0303ad5a",
      "metadata": {
        "ExecuteTime": {
          "end_time": "2023-06-07T09:16:36.472144Z",
          "start_time": "2023-06-07T09:16:36.465184Z"
        },
        "id": "0303ad5a"
      },
      "outputs": [],
      "source": [
        "ls = s.split(' ')\n",
        "ls"
      ]
    },
    {
      "cell_type": "code",
      "execution_count": null,
      "id": "4623b4db",
      "metadata": {
        "ExecuteTime": {
          "end_time": "2023-06-07T09:18:37.357189Z",
          "start_time": "2023-06-07T09:18:37.353426Z"
        },
        "id": "4623b4db"
      },
      "outputs": [],
      "source": [
        "lss = '/'.join(ls)\n",
        "lss"
      ]
    },
    {
      "cell_type": "markdown",
      "id": "df14a4e7",
      "metadata": {
        "id": "df14a4e7"
      },
      "source": [
        "Otra cosa útil que podemos hacer es reempalzar cortes en el texto por variables"
      ]
    },
    {
      "cell_type": "code",
      "execution_count": null,
      "id": "d7078ea1",
      "metadata": {
        "ExecuteTime": {
          "end_time": "2023-06-07T12:15:38.009295Z",
          "start_time": "2023-06-07T12:15:38.004196Z"
        },
        "id": "d7078ea1"
      },
      "outputs": [],
      "source": [
        "l = ['Cop', 'Fury', 'Tobe']\n",
        "'Mi perro se llama {} y mis **** gatos se llaman {} y {}'.format(l[0], l[1], l[2])"
      ]
    },
    {
      "cell_type": "markdown",
      "id": "9405301f",
      "metadata": {
        "id": "9405301f"
      },
      "source": [
        "Un tipo especial de string podrían ser los path o rutas a un archivo"
      ]
    },
    {
      "cell_type": "markdown",
      "id": "237c678d",
      "metadata": {
        "id": "237c678d"
      },
      "source": [
        "### System paths"
      ]
    },
    {
      "cell_type": "code",
      "execution_count": null,
      "id": "e0845d0e",
      "metadata": {
        "id": "e0845d0e"
      },
      "outputs": [],
      "source": [
        "import os\n",
        "\n",
        "MyPath = os.getcwd()\n",
        "\n",
        "for i in os.listdir(MyPath):\n",
        "    print(i)\n",
        ""
      ]
    },
    {
      "cell_type": "raw",
      "id": "ac185d48",
      "metadata": {
        "id": "ac185d48"
      },
      "source": [
        "os.path.join() Unir paths con nombres de archivos para acceder a la ruta completa\n",
        "os.path.split()[0] o [1] Separar un path entre el nombre de archivo y la ruta hasta él\n",
        "os.makedirs Crear directorios\n",
        "os.path.isdir/file comprobar la identidad del elemento"
      ]
    },
    {
      "cell_type": "markdown",
      "id": "aac8c42b",
      "metadata": {
        "ExecuteTime": {
          "end_time": "2023-06-07T09:39:56.009082Z",
          "start_time": "2023-06-07T09:39:56.006462Z"
        },
        "id": "aac8c42b"
      },
      "source": [
        "## Numbers and Booleans"
      ]
    },
    {
      "cell_type": "code",
      "execution_count": null,
      "id": "c9940a69",
      "metadata": {
        "ExecuteTime": {
          "end_time": "2023-06-07T09:39:20.804576Z",
          "start_time": "2023-06-07T09:39:20.800603Z"
        },
        "id": "c9940a69"
      },
      "outputs": [],
      "source": [
        "a = 4 + 4\n",
        "aa = 4 + 4.0"
      ]
    },
    {
      "cell_type": "code",
      "execution_count": null,
      "id": "be29ef84",
      "metadata": {
        "ExecuteTime": {
          "end_time": "2023-06-07T09:39:21.675278Z",
          "start_time": "2023-06-07T09:39:21.670986Z"
        },
        "id": "be29ef84"
      },
      "outputs": [],
      "source": [
        "a == aa"
      ]
    },
    {
      "cell_type": "code",
      "execution_count": null,
      "id": "ae2431d2",
      "metadata": {
        "ExecuteTime": {
          "end_time": "2023-06-07T09:25:39.086095Z",
          "start_time": "2023-06-07T09:25:39.075260Z"
        },
        "id": "ae2431d2"
      },
      "outputs": [],
      "source": [
        "type(a), type(aa)"
      ]
    },
    {
      "cell_type": "code",
      "execution_count": null,
      "id": "37b326c1",
      "metadata": {
        "ExecuteTime": {
          "end_time": "2023-06-07T09:39:32.672734Z",
          "start_time": "2023-06-07T09:39:32.665974Z"
        },
        "id": "37b326c1"
      },
      "outputs": [],
      "source": [
        "print(a == aa)\n",
        "print(type(a) == type(aa))"
      ]
    },
    {
      "cell_type": "code",
      "execution_count": null,
      "id": "03f6a4d8",
      "metadata": {
        "ExecuteTime": {
          "end_time": "2023-06-07T09:11:23.082556Z",
          "start_time": "2023-06-07T09:11:23.076100Z"
        },
        "id": "03f6a4d8"
      },
      "outputs": [],
      "source": [
        "b = int(a)"
      ]
    },
    {
      "cell_type": "code",
      "execution_count": null,
      "id": "1060920b",
      "metadata": {
        "ExecuteTime": {
          "end_time": "2023-06-07T09:11:25.734391Z",
          "start_time": "2023-06-07T09:11:25.723804Z"
        },
        "id": "1060920b"
      },
      "outputs": [],
      "source": [
        "b, a, aa"
      ]
    },
    {
      "cell_type": "markdown",
      "id": "ac128c90",
      "metadata": {
        "id": "ac128c90"
      },
      "source": [
        "Por supuesto, a través de otras librerías específicas podemos hacer muchísimas más cosas"
      ]
    },
    {
      "cell_type": "code",
      "execution_count": null,
      "id": "addbf5b6",
      "metadata": {
        "id": "addbf5b6"
      },
      "outputs": [],
      "source": [
        "import math\n",
        "print(math.exp(5))"
      ]
    },
    {
      "cell_type": "code",
      "execution_count": null,
      "id": "7a160feb",
      "metadata": {
        "id": "7a160feb"
      },
      "outputs": [],
      "source": [
        "math.exp?"
      ]
    },
    {
      "cell_type": "code",
      "execution_count": null,
      "id": "c41df523",
      "metadata": {
        "id": "c41df523"
      },
      "outputs": [],
      "source": [
        "round(math.pi, 2)"
      ]
    },
    {
      "cell_type": "code",
      "execution_count": null,
      "id": "835c6e40",
      "metadata": {
        "id": "835c6e40"
      },
      "outputs": [],
      "source": [
        "pi = round(math.pi, 5)\n",
        "math.floor(pi), math.ceil(pi)"
      ]
    },
    {
      "cell_type": "markdown",
      "id": "14d10e18",
      "metadata": {
        "id": "14d10e18"
      },
      "source": [
        "## Listas, Tuples, Sets & Dicts"
      ]
    },
    {
      "cell_type": "code",
      "execution_count": null,
      "id": "4c6bd1e4",
      "metadata": {
        "id": "4c6bd1e4"
      },
      "outputs": [],
      "source": [
        "l = [1,2,3]\n",
        "t = (1,2,3)\n",
        "s = {1,2,3}\n",
        "d = {'Primero': 1, 'Segundo': 2, 'Tercero': 3}"
      ]
    },
    {
      "cell_type": "code",
      "execution_count": null,
      "id": "d50085d6",
      "metadata": {
        "id": "d50085d6"
      },
      "outputs": [],
      "source": [
        "l[1] = 10\n",
        "l"
      ]
    },
    {
      "cell_type": "code",
      "execution_count": null,
      "id": "3ed443dc",
      "metadata": {
        "id": "3ed443dc"
      },
      "outputs": [],
      "source": [
        "l.append(1)\n",
        "l = sorted(l)#[3:5]\n",
        "l"
      ]
    },
    {
      "cell_type": "code",
      "execution_count": null,
      "id": "a934172b",
      "metadata": {
        "id": "a934172b"
      },
      "outputs": [],
      "source": [
        "l.pop(-1)\n",
        "l"
      ]
    },
    {
      "cell_type": "code",
      "execution_count": null,
      "id": "e6f140eb",
      "metadata": {
        "id": "e6f140eb"
      },
      "outputs": [],
      "source": [
        "l.append(10)\n",
        "l"
      ]
    },
    {
      "cell_type": "code",
      "execution_count": null,
      "id": "e30f852c",
      "metadata": {
        "id": "e30f852c"
      },
      "outputs": [],
      "source": [
        "del(l[-1])\n",
        "l"
      ]
    },
    {
      "cell_type": "code",
      "execution_count": null,
      "id": "3e2cfd51",
      "metadata": {
        "id": "3e2cfd51"
      },
      "outputs": [],
      "source": [
        "l.insert(4, 10)\n",
        "l"
      ]
    },
    {
      "cell_type": "code",
      "execution_count": null,
      "id": "e11a8872",
      "metadata": {
        "id": "e11a8872"
      },
      "outputs": [],
      "source": [
        "s[1]"
      ]
    },
    {
      "cell_type": "code",
      "execution_count": null,
      "id": "cb087a56",
      "metadata": {
        "id": "cb087a56"
      },
      "outputs": [],
      "source": [
        "d[1] = 5\n",
        "d"
      ]
    },
    {
      "cell_type": "code",
      "execution_count": null,
      "id": "ca57a5dd",
      "metadata": {
        "id": "ca57a5dd"
      },
      "outputs": [],
      "source": [
        "d.pop(1)\n",
        "d\n",
        "#del(d[1])"
      ]
    },
    {
      "cell_type": "code",
      "execution_count": null,
      "id": "79a4685a",
      "metadata": {
        "id": "79a4685a"
      },
      "outputs": [],
      "source": [
        "s.add(40)\n",
        "s.add(20)\n",
        "print(sorted(s))"
      ]
    },
    {
      "cell_type": "code",
      "execution_count": null,
      "id": "700e3fa8",
      "metadata": {
        "id": "700e3fa8"
      },
      "outputs": [],
      "source": [
        "s.remove(40)\n",
        "s"
      ]
    },
    {
      "cell_type": "code",
      "execution_count": null,
      "id": "3aeba0c3",
      "metadata": {
        "scrolled": true,
        "id": "3aeba0c3"
      },
      "outputs": [],
      "source": [
        "t[1] = 10"
      ]
    },
    {
      "cell_type": "code",
      "execution_count": null,
      "id": "9cd59202",
      "metadata": {
        "scrolled": false,
        "id": "9cd59202"
      },
      "outputs": [],
      "source": [
        "t.append(10)"
      ]
    },
    {
      "cell_type": "code",
      "execution_count": null,
      "id": "37a1b742",
      "metadata": {
        "id": "37a1b742"
      },
      "outputs": [],
      "source": [
        "t.add(10)"
      ]
    },
    {
      "cell_type": "code",
      "execution_count": null,
      "id": "9361432e",
      "metadata": {
        "id": "9361432e"
      },
      "outputs": [],
      "source": [
        "t2 = (15, 25, 5)\n",
        "t3 = t + t2\n",
        "t3"
      ]
    },
    {
      "cell_type": "code",
      "execution_count": null,
      "id": "bdc3a446",
      "metadata": {
        "id": "bdc3a446"
      },
      "outputs": [],
      "source": [
        "tt = t3.remove(15)\n",
        "print(tt)"
      ]
    },
    {
      "cell_type": "code",
      "execution_count": null,
      "id": "d842a726",
      "metadata": {
        "id": "d842a726"
      },
      "outputs": [],
      "source": [
        "for k, v in d.items():\n",
        "    print(k, v)"
      ]
    },
    {
      "cell_type": "code",
      "execution_count": null,
      "id": "2059fdf1",
      "metadata": {
        "id": "2059fdf1"
      },
      "outputs": [],
      "source": [
        "a = list(d.keys())\n",
        "a"
      ]
    },
    {
      "cell_type": "code",
      "execution_count": null,
      "id": "e6827697",
      "metadata": {
        "id": "e6827697"
      },
      "outputs": [],
      "source": [
        "l1 = [1, 2, 3]\n",
        "l2 = ['Hola', 'Mundo', 'Patata']\n",
        "l3 = dict(zip(l1, l2))\n",
        "l3"
      ]
    },
    {
      "cell_type": "code",
      "execution_count": null,
      "id": "22f1c673",
      "metadata": {
        "scrolled": true,
        "id": "22f1c673"
      },
      "outputs": [],
      "source": [
        "print(1 in l, 5 in s)\n",
        "print(len(s))"
      ]
    },
    {
      "cell_type": "code",
      "execution_count": null,
      "id": "216fc8b6",
      "metadata": {
        "id": "216fc8b6"
      },
      "outputs": [],
      "source": [
        "nl = ['hola', 'Mundo', 'Patata']\n",
        "for n, e in enumerate(nl):\n",
        "    print(n, e)"
      ]
    },
    {
      "cell_type": "code",
      "execution_count": null,
      "id": "3207ece6",
      "metadata": {
        "id": "3207ece6"
      },
      "outputs": [],
      "source": [
        "nd = {}\n",
        "\n",
        "for n,e in enumerate(l1):\n",
        "    nd[e] = l2[n]\n",
        "\n",
        "nd"
      ]
    },
    {
      "cell_type": "code",
      "execution_count": null,
      "id": "85bcfdaa",
      "metadata": {
        "id": "85bcfdaa"
      },
      "outputs": [],
      "source": [
        "nnd = {l1[i]: l2[i] for i in range(len(l1))}\n",
        "nnd"
      ]
    },
    {
      "cell_type": "markdown",
      "id": "6f8681f7",
      "metadata": {
        "id": "6f8681f7"
      },
      "source": [
        "Podemos hacer desde las operaciones más sencillas hasta las más complejas importando librerías como Numpy"
      ]
    },
    {
      "cell_type": "markdown",
      "id": "874a44a1",
      "metadata": {
        "id": "874a44a1"
      },
      "source": [
        "## Bucles While y For"
      ]
    },
    {
      "cell_type": "code",
      "execution_count": null,
      "id": "29ac3986",
      "metadata": {
        "scrolled": true,
        "id": "29ac3986"
      },
      "outputs": [],
      "source": [
        "c = 0\n",
        "while c < 10:\n",
        "    c += 1\n",
        "    print('Patata')"
      ]
    },
    {
      "cell_type": "code",
      "execution_count": null,
      "id": "ad384ccd",
      "metadata": {
        "id": "ad384ccd"
      },
      "outputs": [],
      "source": [
        "while True:\n",
        "    print('Oh, how I love python')"
      ]
    },
    {
      "cell_type": "code",
      "execution_count": null,
      "id": "053add18",
      "metadata": {
        "scrolled": true,
        "id": "053add18"
      },
      "outputs": [],
      "source": [
        "for i in range(10):\n",
        "    print(i**25)"
      ]
    },
    {
      "cell_type": "code",
      "execution_count": null,
      "id": "1d7628cc",
      "metadata": {
        "id": "1d7628cc"
      },
      "outputs": [],
      "source": [
        "for i in s:\n",
        "    print(i)"
      ]
    },
    {
      "cell_type": "code",
      "execution_count": null,
      "id": "7e57e0d0",
      "metadata": {
        "hide_input": false,
        "id": "7e57e0d0"
      },
      "outputs": [],
      "source": [
        "for i in range(len(s)):\n",
        "    print('Patata')"
      ]
    },
    {
      "cell_type": "markdown",
      "id": "baef0953",
      "metadata": {
        "id": "baef0953"
      },
      "source": [
        "Una operación especial es el Modulo o resta de la división"
      ]
    },
    {
      "cell_type": "markdown",
      "id": "3db94907",
      "metadata": {
        "id": "3db94907"
      },
      "source": [
        "## Condicionales"
      ]
    },
    {
      "cell_type": "markdown",
      "id": "bcf174d3",
      "metadata": {
        "id": "bcf174d3"
      },
      "source": [
        "Controla el flujo en función de as condiciones que predeterminemos"
      ]
    },
    {
      "cell_type": "code",
      "execution_count": null,
      "id": "b4402a1c",
      "metadata": {
        "id": "b4402a1c"
      },
      "outputs": [],
      "source": [
        "for i in range(11):\n",
        "    if i%2 == 0:\n",
        "        print('par')\n",
        "    else:\n",
        "        print('impar')"
      ]
    },
    {
      "cell_type": "code",
      "execution_count": null,
      "id": "fc284ee5",
      "metadata": {
        "id": "fc284ee5"
      },
      "outputs": [],
      "source": [
        "for i in range(11):\n",
        "    if i < 1:\n",
        "        print('el número es 0')\n",
        "    elif (i >= 1) and (i < 10):\n",
        "        print('el número es', i)\n",
        "    else:\n",
        "        print('el número es 10')"
      ]
    },
    {
      "cell_type": "code",
      "execution_count": null,
      "id": "d7da46d4",
      "metadata": {
        "id": "d7da46d4"
      },
      "outputs": [],
      "source": [
        "for i in range(11):\n",
        "    if i < 1:\n",
        "        print('el número es 0')\n",
        "    elif (i >= 1) and (i < 10):\n",
        "        print('el número es', i)\n",
        "    else:\n",
        "        print('el número es 10')"
      ]
    },
    {
      "cell_type": "code",
      "execution_count": null,
      "id": "6da531cd",
      "metadata": {
        "id": "6da531cd"
      },
      "outputs": [],
      "source": [
        "for i in range(11):\n",
        "    if i < 1:\n",
        "        print('el número es 0')\n",
        "    elif (i >= 1) and (i < 10):\n",
        "        if i%2 == 0:\n",
        "            print('el número es', i, 'y es un número par')\n",
        "        else:\n",
        "            print('el número es', i, 'y es un número impar')\n",
        "    else:\n",
        "        print('el número es 10')"
      ]
    },
    {
      "cell_type": "markdown",
      "id": "f4dc9eae",
      "metadata": {
        "id": "f4dc9eae"
      },
      "source": [
        "## Funciones"
      ]
    },
    {
      "cell_type": "code",
      "execution_count": null,
      "id": "65bc5d2f",
      "metadata": {
        "id": "65bc5d2f"
      },
      "outputs": [],
      "source": [
        "# Hacerlo al llegar a las funciones\n",
        "\n",
        "def saludo(nombre):\n",
        "\n",
        "    \"\"\"Función para saludar a alguien\n",
        "\n",
        "        Args:\n",
        "            nombre->String\n",
        "        Returns:\n",
        "            Hello + Nombre\n",
        "        \"\"\"\n",
        "    if nombre == 'Diego':\n",
        "        print('Wow, que nombre tan bonito!')\n",
        "    else:\n",
        "        print(nombre, 'está ejecutando la función')\n",
        "\n",
        "    return 'Hello ' + nombre"
      ]
    },
    {
      "cell_type": "code",
      "execution_count": null,
      "id": "9e00c677",
      "metadata": {
        "id": "9e00c677"
      },
      "outputs": [],
      "source": [
        "saludo('Juan')"
      ]
    },
    {
      "cell_type": "markdown",
      "id": "c122cfd5",
      "metadata": {
        "id": "c122cfd5"
      },
      "source": [
        "## Variables Globales vs No Globales"
      ]
    },
    {
      "cell_type": "code",
      "execution_count": null,
      "id": "378f3bbb",
      "metadata": {
        "id": "378f3bbb"
      },
      "outputs": [],
      "source": [
        "x = \"awesome\"\n",
        "\n",
        "def myfunc():\n",
        "    x = \"fantastic\"\n",
        "    print(\"Python is \" + x)\n",
        "\n",
        "myfunc()\n",
        "\n",
        "print(\"Python is \" + x)\n"
      ]
    },
    {
      "cell_type": "code",
      "execution_count": null,
      "id": "45dda876",
      "metadata": {
        "id": "45dda876"
      },
      "outputs": [],
      "source": [
        "x = \"awesome\"\n",
        "\n",
        "def myfunc():\n",
        "    global x\n",
        "    x = \"fantastic\"\n",
        "    print(\"Python is \" + x)\n",
        "\n",
        "myfunc()\n",
        "\n",
        "print(\"Python is \" + x)\n"
      ]
    },
    {
      "cell_type": "markdown",
      "id": "cc6adbb4",
      "metadata": {
        "id": "cc6adbb4"
      },
      "source": [
        "## Manejo de errores"
      ]
    },
    {
      "cell_type": "code",
      "execution_count": null,
      "id": "c8ea8c09",
      "metadata": {
        "scrolled": true,
        "id": "c8ea8c09"
      },
      "outputs": [],
      "source": [
        "lista = [1,2,3,4,5,'patata',6,7,8,9,10]\n",
        "pares = []\n",
        "nones = []\n",
        "\n",
        "for i in lista:\n",
        "\n",
        "    if i%2 == 0:\n",
        "        pares.append(i)\n",
        "    else:\n",
        "        nones.append(i)\n",
        ""
      ]
    },
    {
      "cell_type": "code",
      "execution_count": null,
      "id": "3743af41",
      "metadata": {
        "id": "3743af41"
      },
      "outputs": [],
      "source": [
        "nones"
      ]
    },
    {
      "cell_type": "code",
      "execution_count": 2,
      "id": "2d1f358e",
      "metadata": {
        "id": "2d1f358e",
        "outputId": "1fa787e7-92e5-4bf0-a8d1-9b66c0c37cf6",
        "colab": {
          "base_uri": "https://localhost:8080/"
        }
      },
      "outputs": [
        {
          "output_type": "stream",
          "name": "stdout",
          "text": [
            "not all arguments converted during string formatting\n"
          ]
        }
      ],
      "source": [
        "lista = [1,2,3,4,5,'patata',6,7,8,9,10]\n",
        "pares = []\n",
        "\n",
        "for i in lista:\n",
        "    try:\n",
        "        if i%2 == 0:\n",
        "            pares.append(i)\n",
        "    except Exception as e:\n",
        "        print(e)\n",
        "        continue"
      ]
    },
    {
      "cell_type": "code",
      "execution_count": 3,
      "id": "87e9b562",
      "metadata": {
        "id": "87e9b562",
        "outputId": "c131e410-b5ed-4336-df94-e261c44e7724",
        "colab": {
          "base_uri": "https://localhost:8080/"
        }
      },
      "outputs": [
        {
          "output_type": "execute_result",
          "data": {
            "text/plain": [
              "[2, 4, 6, 8, 10]"
            ]
          },
          "metadata": {},
          "execution_count": 3
        }
      ],
      "source": [
        "pares"
      ]
    },
    {
      "cell_type": "code",
      "source": [
        "lista = [1, 2, 3, 4, 5, 'patata', 6, 7, 8, 9, 10]\n",
        "lista_pares = [x for x in lista if isinstance(x, int) and x % 2 == 0]\n",
        "lista_pares"
      ],
      "metadata": {
        "id": "lKeR8GgDx5xS",
        "outputId": "31b5e222-e499-4ace-bdb2-8215494d29fd",
        "colab": {
          "base_uri": "https://localhost:8080/"
        }
      },
      "id": "lKeR8GgDx5xS",
      "execution_count": 7,
      "outputs": [
        {
          "output_type": "execute_result",
          "data": {
            "text/plain": [
              "[2, 4, 6, 8, 10]"
            ]
          },
          "metadata": {},
          "execution_count": 7
        }
      ]
    },
    {
      "cell_type": "code",
      "source": [
        "def is_even_number(value):\n",
        "    try:\n",
        "        return value % 2 == 0\n",
        "    except TypeError:\n",
        "        return False\n",
        "\n",
        "lista = [1, 2, 3, 4, 5, 'patata', 6, 7, 8, 9, 10]\n",
        "lista_pares = [x for x in lista if is_even_number(x)]\n",
        "lista_pares"
      ],
      "metadata": {
        "id": "do8ULBMdyjJ2",
        "outputId": "cac44e46-d218-420a-90c7-76c6a26c18cf",
        "colab": {
          "base_uri": "https://localhost:8080/"
        }
      },
      "id": "do8ULBMdyjJ2",
      "execution_count": 9,
      "outputs": [
        {
          "output_type": "execute_result",
          "data": {
            "text/plain": [
              "[2, 4, 6, 8, 10]"
            ]
          },
          "metadata": {},
          "execution_count": 9
        }
      ]
    },
    {
      "cell_type": "markdown",
      "id": "ea7cf704",
      "metadata": {
        "id": "ea7cf704"
      },
      "source": [
        "## Modulos"
      ]
    },
    {
      "cell_type": "markdown",
      "id": "59183d11",
      "metadata": {
        "id": "59183d11"
      },
      "source": [
        "Un modulo no es ni más ni menos que un archivo python con una serie de funciones o\n",
        "clases que pueden ser importadas directamente a nuestro código"
      ]
    },
    {
      "cell_type": "markdown",
      "id": "b9fd6db5",
      "metadata": {
        "id": "b9fd6db5"
      },
      "source": [
        "## Trabajando con archivos (read & write)"
      ]
    },
    {
      "cell_type": "code",
      "execution_count": 17,
      "id": "21cfd76a",
      "metadata": {
        "id": "21cfd76a"
      },
      "outputs": [],
      "source": [
        "f = open('myfile.txt', 'w')"
      ]
    },
    {
      "cell_type": "code",
      "execution_count": 18,
      "id": "6fd37a91",
      "metadata": {
        "id": "6fd37a91"
      },
      "outputs": [],
      "source": [
        "f.write('Lo terrible no es la calle sola\\nEl anden como un reto\\nLos trenes que perdimos\\n')\n",
        "f.write('Lo terrible no es ni siquiera el dolor\\n')\n",
        "f.close()"
      ]
    },
    {
      "cell_type": "code",
      "execution_count": 19,
      "id": "a53e75ac",
      "metadata": {
        "id": "a53e75ac",
        "outputId": "c1e39276-1b0e-4301-8641-04fb4afb9d0a",
        "colab": {
          "base_uri": "https://localhost:8080/"
        }
      },
      "outputs": [
        {
          "output_type": "stream",
          "name": "stdout",
          "text": [
            "Lo terrible no es la calle sola\n",
            "El anden como un reto\n",
            "Los trenes que perdimos\n",
            "Lo terrible no es ni siquiera el dolor\n",
            "\n"
          ]
        }
      ],
      "source": [
        "f = open('myfile.txt', 'r')\n",
        "text = f.read()\n",
        "f.close()\n",
        "\n",
        "print(text)"
      ]
    },
    {
      "cell_type": "code",
      "execution_count": 21,
      "id": "a26a0008",
      "metadata": {
        "scrolled": true,
        "id": "a26a0008",
        "outputId": "670d1159-bd93-40ab-f757-f014fad614b5",
        "colab": {
          "base_uri": "https://localhost:8080/"
        }
      },
      "outputs": [
        {
          "output_type": "stream",
          "name": "stdout",
          "text": [
            "Lo terrible no es la calle sola\n",
            "El anden como un reto\n",
            "Los trenes que perdimos\n",
            "Lo terrible no es ni siquiera el dolor\n",
            "\n",
            "Cerrando el fichero... poéticamente.\n",
            "True\n"
          ]
        }
      ],
      "source": [
        "with open('myfile.txt') as file:\n",
        "    for line in file:\n",
        "        print(line.strip())\n",
        "    print('\\nCerrando el fichero... poéticamente.')\n",
        "    file.close()\n",
        "    print(file.closed)\n"
      ]
    },
    {
      "cell_type": "markdown",
      "id": "bed47a50",
      "metadata": {
        "id": "bed47a50"
      },
      "source": [
        "## Tomando datos de entrada"
      ]
    },
    {
      "cell_type": "code",
      "execution_count": null,
      "id": "4c8e51a4",
      "metadata": {
        "id": "4c8e51a4"
      },
      "outputs": [],
      "source": [
        "nombre = input('¿Como te llamas?')"
      ]
    },
    {
      "cell_type": "code",
      "execution_count": null,
      "id": "04d75878",
      "metadata": {
        "id": "04d75878"
      },
      "outputs": [],
      "source": [
        "def saludo():\n",
        "\n",
        "    nombre = input('¿Como te llamas?')\n",
        "    return 'Hola ' + nombre\n",
        "\n",
        "saludo()"
      ]
    }
  ],
  "metadata": {
    "hide_input": false,
    "kernelspec": {
      "display_name": "Python 3",
      "language": "python",
      "name": "python3"
    },
    "language_info": {
      "codemirror_mode": {
        "name": "ipython",
        "version": 3
      },
      "file_extension": ".py",
      "mimetype": "text/x-python",
      "name": "python",
      "nbconvert_exporter": "python",
      "pygments_lexer": "ipython3",
      "version": "3.8.8"
    },
    "toc": {
      "base_numbering": 1,
      "nav_menu": {
        "height": "312px",
        "width": "364px"
      },
      "number_sections": true,
      "sideBar": true,
      "skip_h1_title": false,
      "title_cell": "Table of Contents",
      "title_sidebar": "Contents",
      "toc_cell": false,
      "toc_position": {
        "height": "calc(100% - 180px)",
        "left": "10px",
        "top": "150px",
        "width": "386px"
      },
      "toc_section_display": true,
      "toc_window_display": true
    },
    "varInspector": {
      "cols": {
        "lenName": 16,
        "lenType": 16,
        "lenVar": 40
      },
      "kernels_config": {
        "python": {
          "delete_cmd_postfix": "",
          "delete_cmd_prefix": "del ",
          "library": "var_list.py",
          "varRefreshCmd": "print(var_dic_list())"
        },
        "r": {
          "delete_cmd_postfix": ") ",
          "delete_cmd_prefix": "rm(",
          "library": "var_list.r",
          "varRefreshCmd": "cat(var_dic_list()) "
        }
      },
      "oldHeight": 269.85,
      "position": {
        "height": "497.85px",
        "left": "1598px",
        "right": "20px",
        "top": "121px",
        "width": "302px"
      },
      "types_to_exclude": [
        "module",
        "function",
        "builtin_function_or_method",
        "instance",
        "_Feature"
      ],
      "varInspector_section_display": "block",
      "window_display": false
    },
    "colab": {
      "provenance": []
    }
  },
  "nbformat": 4,
  "nbformat_minor": 5
}